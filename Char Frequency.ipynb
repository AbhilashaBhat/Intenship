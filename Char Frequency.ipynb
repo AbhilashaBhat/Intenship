{
 "cells": [
  {
   "cell_type": "code",
   "execution_count": 5,
   "id": "8e806866",
   "metadata": {},
   "outputs": [
    {
     "name": "stdout",
     "output_type": "stream",
     "text": [
      "Given String:  Abhilasha\n",
      "Frequency of each character :\n",
      "  {'i': 1, 'h': 2, 'a': 2, 's': 1, 'b': 1, 'A': 1, 'l': 1}\n"
     ]
    }
   ],
   "source": [
    "strA = \"Abhilasha\"\n",
    "print(\"Given String: \",strA)\n",
    "\n",
    "res = {}\n",
    "\n",
    "res={n: strA.count(n) for n in set(strA)}\n",
    "\n",
    "print(\"Frequency of each character :\\n \",res)"
   ]
  },
  {
   "cell_type": "code",
   "execution_count": null,
   "id": "5a32f421",
   "metadata": {},
   "outputs": [],
   "source": []
  }
 ],
 "metadata": {
  "kernelspec": {
   "display_name": "Python 3",
   "language": "python",
   "name": "python3"
  },
  "language_info": {
   "codemirror_mode": {
    "name": "ipython",
    "version": 3
   },
   "file_extension": ".py",
   "mimetype": "text/x-python",
   "name": "python",
   "nbconvert_exporter": "python",
   "pygments_lexer": "ipython3",
   "version": "3.8.8"
  }
 },
 "nbformat": 4,
 "nbformat_minor": 5
}
